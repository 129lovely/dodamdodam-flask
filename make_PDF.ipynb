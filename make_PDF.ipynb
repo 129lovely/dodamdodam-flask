{
 "cells": [
  {
   "cell_type": "markdown",
   "metadata": {},
   "source": [
    "# 우리의 output을 pdf로 출력하기"
   ]
  },
  {
   "cell_type": "code",
   "execution_count": 214,
   "metadata": {},
   "outputs": [],
   "source": [
    "from fpdf import FPDF\n",
    "import matplotlib.pyplot as plt\n",
    "import PIL.Image as pilimg\n",
    "from PIL import Image"
   ]
  },
  {
   "cell_type": "code",
   "execution_count": 515,
   "metadata": {},
   "outputs": [],
   "source": [
    "class PDF(FPDF):\n",
    "    pass\n",
    "    def half_lines(self):\n",
    "        self.set_line_width(0.0)\n",
    "        self.line(0,self.h/2,210,self.h/2)\n",
    "        self.line(self.w/2,0,self.w/2,297)\n",
    "    def lines(self):\n",
    "        self.line(5.0,5.0,205.0,5.0) # top one\n",
    "        self.line(5.0,292.0,205.0,292.0) # bottom one\n",
    "        self.line(5.0,5.0,5.0,292.0) # left one\n",
    "        self.line(205.0,5.0,205.0,292.0) # right one\n",
    "        \n",
    "    def phoenix(self,image_left,image_right):\n",
    "        self.set_xy(6.0,6.0)\n",
    "        self.image(image_left,  link='', type='', w=1492/40, h=1129/40)\n",
    "        self.set_xy(167.0,6.0)\n",
    "        self.image(image_right,  link='', type='', w=1492/40, h=1129/40)\n",
    "        \n",
    "    def set_dodam(self,dodam):\n",
    "        self.set_xy(70.0,10.0)\n",
    "        self.set_font('tvN', 'Bold', 48)\n",
    "        self.set_text_color(255, 215, 0)\n",
    "        self.multi_cell(w=50.0, h=20.0, align='C', txt=dodam[:2], border=0)\n",
    "#         self.set_xy(90,10)\n",
    "#         self.set_text_color(0, 0, 0)\n",
    "#         self.multi_cell(w=50.0, h=20.0, align='C', txt=dodam[2:], border=0)\n",
    "\n",
    "    def set_title(self,title):\n",
    "        self.set_xy(15.0,5.0)\n",
    "        self.set_font('NanumGothic', 'Bold', 24)\n",
    "        self.set_text_color(255, 215, 0)\n",
    "        self.cell(w=100,h=20.0, align='L', txt=title)\n",
    "\n",
    "        \n",
    "    def texts(self,text_file,font,type,size):\n",
    "        with open(text_file,'rb') as f:\n",
    "            txt=f.read().decode('utf-8')\n",
    "        self.set_xy(10.0,40.0)    \n",
    "        self.set_text_color(0.0, 0.0, 0.0)\n",
    "        self.set_font(font,type , size)\n",
    "        self.multi_cell(0,10,txt)\n",
    "        \n",
    "            \n",
    "        \n",
    "    def wordCloud(self,plt,text,text2):\n",
    "            self.set_xy(10.0,30)\n",
    "            self.image(plt,  link='', type='', w=1000/10, h=1000/10)\n",
    "            self.set_xy(10,10)\n",
    "            self.set_font('NanumGothic', 'Bold', 24)\n",
    "            self.set_text_color(0, 0, 0)\n",
    "            self.multi_cell( 0,10,txt=text, border=0)\n",
    "            \n",
    "            self.set_xy(120,30)\n",
    "            self.set_font('NanumGothic', '', 12)\n",
    "            self.set_text_color(0, 0, 0)\n",
    "            self.multi_cell( 0,10,txt=text2, border=0)\n",
    "            \n",
    "    def keyWord(self,chart1,chart2,chart3,text,text2):\n",
    "            self.set_xy(10,170)\n",
    "            self.image(chart1,  link='', type='', w=432/4.9, h=228/4.9)\n",
    "            \n",
    "            self.set_xy(110,170)\n",
    "            self.image(chart2,  link='', type='', w=432/4.9, h=228/4.9)\n",
    "            \n",
    "            self.set_xy(10,230)\n",
    "            self.image(chart3,  link='', type='', w=432/4.9, h=228/4.9)\n",
    "            \n",
    "            self.set_xy(10,150)\n",
    "            self.set_font('NanumGothic', 'Bold', 24)\n",
    "            self.set_text_color(0, 0, 0)\n",
    "            self.multi_cell( 0,10,txt=text, border=0)\n",
    "            \n",
    "            self.set_xy(110,230)\n",
    "            self.set_font('NanumGothic', '', 12)\n",
    "            self.set_text_color(0, 0, 0)\n",
    "            self.multi_cell( 0,10,txt=text2, border=0)\n",
    "            \n",
    "            \n",
    "    def dodam(self,dodam):\n",
    "        self.set_xy(70.0,100.0)\n",
    "        self.image(dodam,  link='', type='', w=800/10, h=800/10)"
   ]
  },
  {
   "cell_type": "code",
   "execution_count": 516,
   "metadata": {},
   "outputs": [],
   "source": [
    "# default\n",
    "pdf = PDF(orientation='P', unit='mm', format='A4')"
   ]
  },
  {
   "cell_type": "code",
   "execution_count": 517,
   "metadata": {},
   "outputs": [],
   "source": [
    "#메인 페이지 포닉스 + 도담도담\n",
    "\n",
    "pdf.add_page()\n",
    "pdf.lines()\n",
    "# pdf.half_lines()\n",
    "# pdf.phoenix('left.png','right.png') 포닉스\n",
    "\n",
    "# pdf.image('a.png', x = (6.0,6.0), y = (183.0,6.0),  w=1586/80, h=640/1920, type = '', link = '')"
   ]
  },
  {
   "cell_type": "code",
   "execution_count": 518,
   "metadata": {},
   "outputs": [],
   "source": [
    "# # 폰트 설정 및 도담도담 타이틀\n",
    "pdf.add_font('NanumGothic', 'Bold','/usr/share/fonts/truetype/nanum/NanumGothicBold.ttf', uni=True)\n",
    "pdf.add_font('NanumGothic', '','/usr/share/fonts/truetype/nanum/NanumGothic.ttf', uni=True)\n",
    "pdf.add_font('tvN', 'Bold','./font/tvN 즐거운이야기 Bold.ttf', uni=True)\n",
    "pdf.add_font('tvN', 'Light','./font/tvN 즐거운이야기 Light.ttf', uni=True)\n",
    "pdf.add_font('tvN', 'Medium','./font/tvN 즐거운이야기 Medium.ttf', uni=True)\n",
    "pdf.set_dodam('도담도담')"
   ]
  },
  {
   "cell_type": "code",
   "execution_count": 519,
   "metadata": {},
   "outputs": [],
   "source": [
    "pdf.texts('./text/test.txt','tvN','Bold',24)"
   ]
  },
  {
   "cell_type": "code",
   "execution_count": 520,
   "metadata": {},
   "outputs": [],
   "source": [
    "# pdf.dodam('dodam.png')"
   ]
  },
  {
   "cell_type": "code",
   "execution_count": 521,
   "metadata": {},
   "outputs": [],
   "source": [
    "#키워드 추줄\n",
    "pdf.add_page()\n",
    "pdf.lines()\n",
    "# pdf.half_lines()\n",
    "\n",
    "\n",
    "# pdf.set_title(title)"
   ]
  },
  {
   "cell_type": "code",
   "execution_count": 522,
   "metadata": {},
   "outputs": [],
   "source": [
    "# pdf.texts('./text/wordcloud.txt','NanumGothic','Bold',24)\n",
    "text1='Word Cloud'\n",
    "text2=\"워드 클라우드는 메타 데이터에서 얻어진 태그들을 분석하여 중요도나 인기도 등을 고려하여 시각적으로 늘어 놓아 시각적으로 표현한 그림입니다.\\n워드 클라우드를 통해 한눈에 중요한 단어가 무엇인지 파악할 수 있습니다.\"\n",
    "pdf.wordCloud('./image/wordcloud.png',text1,text2)"
   ]
  },
  {
   "cell_type": "code",
   "execution_count": 523,
   "metadata": {},
   "outputs": [],
   "source": [
    "#시간대별 키워드\n",
    "text='시간대별 키워드'\n",
    "text2 = '시간대별 키워드는 회의를 초반 중반 후반으로 나누어 중요 키워드의 빈도를 그린것으로 회의 시간대별 중요 키워드를 알 수 있습니다..'\n",
    "pdf.keyWord('./image/chart1.png','./image/chart2.png','./image/chart3.png',text,text2)"
   ]
  },
  {
   "cell_type": "code",
   "execution_count": 524,
   "metadata": {
    "scrolled": false
   },
   "outputs": [
    {
     "name": "stderr",
     "output_type": "stream",
     "text": [
      "/home/piai/anaconda3/envs/pytorch/lib/python3.8/site-packages/fpdf/ttfonts.py:670: UserWarning: cmap value too big/small: -53366\n",
      "  warnings.warn(\"cmap value too big/small: %s\" % cm)\n"
     ]
    },
    {
     "data": {
      "text/plain": [
       "''"
      ]
     },
     "execution_count": 524,
     "metadata": {},
     "output_type": "execute_result"
    }
   ],
   "source": [
    "pdf.output('test.pdf','F')"
   ]
  },
  {
   "cell_type": "code",
   "execution_count": null,
   "metadata": {},
   "outputs": [],
   "source": []
  },
  {
   "cell_type": "code",
   "execution_count": null,
   "metadata": {},
   "outputs": [],
   "source": []
  },
  {
   "cell_type": "code",
   "execution_count": null,
   "metadata": {},
   "outputs": [],
   "source": []
  },
  {
   "cell_type": "code",
   "execution_count": null,
   "metadata": {},
   "outputs": [],
   "source": []
  },
  {
   "cell_type": "code",
   "execution_count": null,
   "metadata": {},
   "outputs": [],
   "source": []
  }
 ],
 "metadata": {
  "kernelspec": {
   "display_name": "Torch",
   "language": "python",
   "name": "pytorch"
  },
  "language_info": {
   "codemirror_mode": {
    "name": "ipython",
    "version": 3
   },
   "file_extension": ".py",
   "mimetype": "text/x-python",
   "name": "python",
   "nbconvert_exporter": "python",
   "pygments_lexer": "ipython3",
   "version": "3.8.3"
  }
 },
 "nbformat": 4,
 "nbformat_minor": 2
}
